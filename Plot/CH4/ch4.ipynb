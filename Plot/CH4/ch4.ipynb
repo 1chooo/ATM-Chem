{
 "cells": [
  {
   "cell_type": "code",
   "execution_count": null,
   "metadata": {},
   "outputs": [],
   "source": [
    "import matplotlib.pyplot as plt\n",
    "import numpy as np\n",
    "import pandas as pd\n",
    "import os"
   ]
  },
  {
   "cell_type": "code",
   "execution_count": null,
   "metadata": {},
   "outputs": [],
   "source": [
    "data_path = r\"/Users/linchunho/Developer/ATM-Chem/src/data/monthly_mean/\"\n",
    "\n",
    "os.chdir(data_path)"
   ]
  },
  {
   "cell_type": "code",
   "execution_count": null,
   "metadata": {},
   "outputs": [],
   "source": [
    "for file in os.listdir() :\n",
    "    if file.startswith(f\"ch4\") :\n",
    "    # if file.endswith(f\"mlo.txt\") : \n",
    "        file_path = f\"{data_path}/{file}\"\n",
    "        data = pd.read_csv(file_path, skiprows=64, sep=\"\\s+\")\n",
    "        data = data.replace(-0.99, 0)\n",
    "        data = data.replace(-9.99, 0)\n",
    "        data = data.replace(-1   , 0)\n",
    "        data.columns = [\"year\", \"month\", \"date\", \"avg\", \"avg_unc\", \"trend\", \"trend_unc\"]\n",
    "\n",
    "        print(data)"
   ]
  },
  {
   "cell_type": "code",
   "execution_count": null,
   "metadata": {},
   "outputs": [],
   "source": []
  },
  {
   "cell_type": "code",
   "execution_count": null,
   "metadata": {},
   "outputs": [],
   "source": [
    "for file in os.listdir() :\n",
    "    if file.startswith(f\"ch4\") :\n",
    "    # if file.endswith(f\"mlo.txt\") : \n",
    "        file_path = f\"{data_path}/{file}\"\n",
    "        data = pd.read_csv(file_path, skiprows=478, sep=\"\\s+\")\n",
    "        data = data.replace(-0.99, 0)\n",
    "        data = data.replace(-9.99, 0)\n",
    "        data = data.replace(-1   , 0)\n",
    "        data.columns = [\"year\", \"month\", \"date\", \"avg\", \"avg_unc\", \"trends\", \"unc\"]\n",
    "\n",
    "        print(data)"
   ]
  }
 ],
 "metadata": {
  "kernelspec": {
   "display_name": "Python 3.10.1 64-bit",
   "language": "python",
   "name": "python3"
  },
  "language_info": {
   "codemirror_mode": {
    "name": "ipython",
    "version": 3
   },
   "file_extension": ".py",
   "mimetype": "text/x-python",
   "name": "python",
   "nbconvert_exporter": "python",
   "pygments_lexer": "ipython3",
   "version": "3.10.1"
  },
  "orig_nbformat": 4,
  "vscode": {
   "interpreter": {
    "hash": "aee8b7b246df8f9039afb4144a1f6fd8d2ca17a180786b69acc140d282b71a49"
   }
  }
 },
 "nbformat": 4,
 "nbformat_minor": 2
}
