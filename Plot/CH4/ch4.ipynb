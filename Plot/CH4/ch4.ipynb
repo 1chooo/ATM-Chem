{
 "cells": [
  {
   "cell_type": "code",
   "execution_count": 1,
   "metadata": {},
   "outputs": [],
   "source": [
    "import matplotlib.pyplot as plt\n",
    "import numpy as np\n",
    "import pandas as pd\n",
    "import os"
   ]
  },
  {
   "cell_type": "code",
   "execution_count": 2,
   "metadata": {},
   "outputs": [],
   "source": [
    "data_path = r\"/Users/linchunho/Developer/ATM-Chem/src/data/monthly_mean/\"\n",
    "\n",
    "os.chdir(data_path)"
   ]
  },
  {
   "cell_type": "code",
   "execution_count": 10,
   "metadata": {},
   "outputs": [
    {
     "name": "stdout",
     "output_type": "stream",
     "text": [
      "     year  month      date      avg  avg_unc    trend  trend_unc\n",
      "0    1983      7  1983.542  1626.58     2.10  1635.31       1.39\n",
      "1    1983      8  1983.625  1627.88     2.69  1635.92       1.33\n",
      "2    1983      9  1983.708  1638.49     2.33  1636.53       1.27\n",
      "3    1983     10  1983.792  1644.80     1.59  1637.16       1.20\n",
      "4    1983     11  1983.875  1642.58     0.78  1637.83       1.12\n",
      "..    ...    ...       ...      ...      ...      ...        ...\n",
      "463  2022      2  2022.125  1907.94     0.00  1907.19       0.00\n",
      "464  2022      3  2022.208  1909.23     0.00  1908.37       0.00\n",
      "465  2022      4  2022.292  1909.98     0.00  1909.49       0.00\n",
      "466  2022      5  2022.375  1908.67     0.00  1910.50       0.00\n",
      "467  2022      6  2022.458  1906.11     0.00  1911.40       0.00\n",
      "\n",
      "[468 rows x 7 columns]\n"
     ]
    }
   ],
   "source": [
    "for file in os.listdir() :\n",
    "    if file.startswith(f\"ch4\") :\n",
    "    # if file.endswith(f\"mlo.txt\") : \n",
    "        file_path = f\"{data_path}/{file}\"\n",
    "        data = pd.read_csv(file_path, skiprows=64, sep=\"\\s+\")\n",
    "        data = data.replace(-0.99, 0)\n",
    "        data = data.replace(-9.99, 0)\n",
    "        data = data.replace(-1   , 0)\n",
    "        data.columns = [\"year\", \"month\", \"date\", \"avg\", \"avg_unc\", \"trend\", \"trend_unc\"]\n",
    "\n",
    "        print(data)"
   ]
  },
  {
   "cell_type": "code",
   "execution_count": null,
   "metadata": {},
   "outputs": [],
   "source": []
  },
  {
   "cell_type": "code",
   "execution_count": null,
   "metadata": {},
   "outputs": [],
   "source": [
    "for file in os.listdir() :\n",
    "    if file.startswith(f\"ch4\") :\n",
    "    # if file.endswith(f\"mlo.txt\") : \n",
    "        file_path = f\"{data_path}/{file}\"\n",
    "        data = pd.read_csv(file_path, skiprows=478, sep=\"\\s+\")\n",
    "        data = data.replace(-0.99, 0)\n",
    "        data = data.replace(-9.99, 0)\n",
    "        data = data.replace(-1   , 0)\n",
    "        data.columns = [\"year\", \"month\", \"date\", \"avg\", \"avg_unc\", \"trends\", \"unc\"]\n",
    "\n",
    "        print(data)"
   ]
  }
 ],
 "metadata": {
  "kernelspec": {
   "display_name": "Python 3.10.1 64-bit",
   "language": "python",
   "name": "python3"
  },
  "language_info": {
   "codemirror_mode": {
    "name": "ipython",
    "version": 3
   },
   "file_extension": ".py",
   "mimetype": "text/x-python",
   "name": "python",
   "nbconvert_exporter": "python",
   "pygments_lexer": "ipython3",
   "version": "3.10.1"
  },
  "orig_nbformat": 4,
  "vscode": {
   "interpreter": {
    "hash": "aee8b7b246df8f9039afb4144a1f6fd8d2ca17a180786b69acc140d282b71a49"
   }
  }
 },
 "nbformat": 4,
 "nbformat_minor": 2
}
