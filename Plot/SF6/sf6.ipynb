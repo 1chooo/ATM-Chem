{
 "cells": [
  {
   "cell_type": "code",
   "execution_count": null,
   "metadata": {},
   "outputs": [],
   "source": []
  }
 ],
 "metadata": {
  "kernelspec": {
   "display_name": "Python 3.9.7 ('atmEnv')",
   "language": "python",
   "name": "python3"
  },
  "language_info": {
   "name": "python",
   "version": "3.9.7"
  },
  "orig_nbformat": 4,
  "vscode": {
   "interpreter": {
    "hash": "79f45e071a0b8a36a51e53f3fa3943c1eacf07ce7839765381adae3285d98f04"
   }
  }
 },
 "nbformat": 4,
 "nbformat_minor": 2
}
